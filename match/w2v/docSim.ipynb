{
 "cells": [
  {
   "cell_type": "code",
   "execution_count": 4,
   "metadata": {
    "collapsed": true
   },
   "outputs": [],
   "source": [
    "import numpy as np\n",
    "from gensim.models import Word2Vec\n",
    "from data_loader import titles\n",
    "from conf import w2v_model_pt as model_pt\n",
    "from util import tokenize"
   ]
  },
  {
   "cell_type": "code",
   "execution_count": 5,
   "metadata": {},
   "outputs": [],
   "source": [
    "def doc2vec(doc):\n",
    "  words = tokenize(doc)\n",
    "  return np.sum(np.array([model.wv.get_vector(w) for w in words if w in model.wv]), axis=0)\n",
    "\n",
    "\n",
    "def docs2vecs(docs):\n",
    "  return np.stack([doc2vec(d) for d in docs], axis=0)"
   ]
  },
  {
   "cell_type": "code",
   "execution_count": 6,
   "metadata": {},
   "outputs": [
    {
     "name": "stdout",
     "output_type": "stream",
     "text": [
      "mat.shape=(428892, 100)\n"
     ]
    }
   ],
   "source": [
    "  topN = 10\n",
    "  model = Word2Vec.load(model_pt)\n",
    "  mat = docs2vecs(titles)\n",
    "  print(\"mat.shape=\" + str(mat.shape))"
   ]
  },
  {
   "cell_type": "code",
   "execution_count": 10,
   "metadata": {},
   "outputs": [
    {
     "name": "stdout",
     "output_type": "stream",
     "text": [
      "(428892,)\n"
     ]
    }
   ],
   "source": [
    "doc = \"全民k歌怎么做后期\"\n",
    "dv = doc2vec(doc)\n",
    "sim_vec = np.dot(mat, dv)\n",
    "print(sim_vec.shape)"
   ]
  },
  {
   "cell_type": "code",
   "execution_count": 16,
   "metadata": {},
   "outputs": [
    {
     "name": "stdout",
     "output_type": "stream",
     "text": [
      "以下哪些商品属于垄断竞争商品?垄断竞争商品有哪些共同特征\n马牌汽车轮胎和米其林汽车轮胎对比\n试述大地坐标系 地理坐标系和平面投影坐标系的区别和联系\nlol海克斯科技符石怎么获得 海克斯科技符石详解\n雪佛兰科沃兹和福特福睿斯哪个质量好?哪个更省油?哪个性价比高?\n北京大金空调维修 北京大金空调维修--大金特约维修中心电话?\n北京大金空调维修 北京大金空调维修--大金特约维修中心电话?\n关于开增值税专票和增值税普票的区别??\n关于开增值税专票和增值税普票的区别??\n罗湖奥克斯空调维修电话 罗湖奥克斯空调售后服务电话?\n"
     ]
    }
   ],
   "source": [
    "dids = np.argsort(sim_vec)[:topN]\n",
    "for did in dids:\n",
    "  print(titles[did])"
   ]
  },
  {
   "cell_type": "code",
   "execution_count": null,
   "metadata": {},
   "outputs": [],
   "source": []
  }
 ],
 "metadata": {
  "kernelspec": {
   "display_name": "Python 2",
   "language": "python",
   "name": "python2"
  },
  "language_info": {
   "codemirror_mode": {
    "name": "ipython",
    "version": 2
   },
   "file_extension": ".py",
   "mimetype": "text/x-python",
   "name": "python",
   "nbconvert_exporter": "python",
   "pygments_lexer": "ipython2",
   "version": "2.7.6"
  }
 },
 "nbformat": 4,
 "nbformat_minor": 0
}
